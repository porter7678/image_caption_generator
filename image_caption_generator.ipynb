{
  "nbformat": 4,
  "nbformat_minor": 0,
  "metadata": {
    "colab": {
      "name": "image_caption_generator",
      "provenance": [],
      "include_colab_link": true
    },
    "kernelspec": {
      "name": "python3",
      "display_name": "Python 3"
    },
    "accelerator": "GPU"
  },
  "cells": [
    {
      "cell_type": "markdown",
      "metadata": {
        "id": "view-in-github",
        "colab_type": "text"
      },
      "source": [
        "<a href=\"https://colab.research.google.com/github/porter7678/image_caption_generator/blob/master/image_caption_generator.ipynb\" target=\"_parent\"><img src=\"https://colab.research.google.com/assets/colab-badge.svg\" alt=\"Open In Colab\"/></a>"
      ]
    },
    {
      "cell_type": "markdown",
      "metadata": {
        "id": "yTMqietwBylh",
        "colab_type": "text"
      },
      "source": [
        "###To Do:\n",
        " - Get some sort of \"embedding\" from a CNN.\n",
        " - Try to implement the RNN part using PyTorch's built in LSTM\n",
        " - Implement the LSTM from the paper\n",
        "\n",
        "\n",
        "###Fix at the end:\n",
        " - Shuffle my dataloader\n",
        " - Size images back up\n",
        " - Get images to work even if they’re not square\n",
        " - I did 'drop_last' on my dataloaders, there is a chance I don't want to do that\n",
        " - If I can get the model training on just one caption, is there some way to generalize the loss to account for all 5 captions that I have? Like treat the loss as the lowest out of all 5 captions?\n",
        " - Use a different CNN that isn't copying from https://medium.com/@stepanulyanin/captioning-images-with-pytorch-bc592e5fd1a3\n",
        " - After getting something running, try to strip it down to just what the paper had (including a CNN from that year)\n",
        "\n",
        "###Possible improvements:\n",
        " - Different CNN\n",
        " - Implement Attention\n",
        " - Fix the embedding dictionary\n",
        " - Teacher forcing\n",
        " - Beam search\n",
        "\n",
        "###Questions\n",
        " - What does pin_memory in the DataLoader do?\n",
        " - The research paper talks about a \"dictionary\" is that something I am actually supposed to include, or does that just refer to my collection of captions?\n",
        " - Is there any way to know what size the output of my CNN should be?\n",
        "\n",
        " ----------------------------------------------\n"
      ]
    },
    {
      "cell_type": "code",
      "metadata": {
        "id": "saUiX2p428La",
        "colab_type": "code",
        "colab": {}
      },
      "source": [
        "# !pip install torch \n",
        "# !pip install torchvision\n",
        "# !pip install tqdm\n",
        "# !pip install kaggle"
      ],
      "execution_count": 0,
      "outputs": []
    },
    {
      "cell_type": "code",
      "metadata": {
        "id": "wIPxNuxA4Bni",
        "colab_type": "code",
        "colab": {}
      },
      "source": [
        "import torch\n",
        "import torch.nn as nn\n",
        "import torch.nn.functional as F\n",
        "import torch.optim as optim\n",
        "from torch.utils.data import Dataset, DataLoader\n",
        "import torchvision.utils as vutils\n",
        "import numpy as np\n",
        "import matplotlib.pyplot as plt\n",
        "from torchvision import transforms, utils, datasets, models\n",
        "from tqdm import tqdm\n",
        "import os\n",
        "\n",
        "\n",
        "assert torch.cuda.is_available()"
      ],
      "execution_count": 0,
      "outputs": []
    },
    {
      "cell_type": "markdown",
      "metadata": {
        "id": "CmybwgB4qRT7",
        "colab_type": "text"
      },
      "source": [
        "# Data Preparation"
      ]
    },
    {
      "cell_type": "code",
      "metadata": {
        "id": "v6B-whcwDICG",
        "colab_type": "code",
        "colab": {}
      },
      "source": [
        "os.environ['KAGGLE_USERNAME'] = 'porter7678'\n",
        "if not 'KAGGLE_KEY' in os.environ:\n",
        "  os.environ['KAGGLE_KEY'] = input()"
      ],
      "execution_count": 0,
      "outputs": []
    },
    {
      "cell_type": "code",
      "metadata": {
        "id": "pyvIBcScVojJ",
        "colab_type": "code",
        "outputId": "5efd121c-7ad4-4a29-aa24-c9f0f1b159ba",
        "colab": {
          "base_uri": "https://localhost:8080/",
          "height": 0
        }
      },
      "source": [
        "# ~70 secs\n",
        "!kaggle datasets download -d ming666/flicker8k-dataset\n",
        "!unzip -q flicker8k-dataset.zip\n",
        "\n",
        "# Discard extra directories\n",
        "! rm -rf flickr8k_dataset/\n",
        "! rm -rf flickr8k_text/\n",
        "! rm -rf sample_data/\n",
        "\n",
        "# Create Train and Valid directories\n",
        "os.mkdir('Flickr8k_Dataset/Train_Images')\n",
        "os.mkdir('Flickr8k_Dataset/Valid_Images')\n",
        "os.mkdir('Flickr8k_Dataset/Valid_Images/Flicker8k_Dataset_Valid')\n",
        "os.replace('Flickr8k_Dataset/Flicker8k_Dataset', 'Flickr8k_Dataset/Train_Images/Flicker8k_Dataset_Train')"
      ],
      "execution_count": 4,
      "outputs": [
        {
          "output_type": "stream",
          "text": [
            "Downloading flicker8k-dataset.zip to /content\n",
            "100% 2.07G/2.08G [00:40<00:00, 68.1MB/s]\n",
            "100% 2.08G/2.08G [00:40<00:00, 55.2MB/s]\n"
          ],
          "name": "stdout"
        }
      ]
    },
    {
      "cell_type": "code",
      "metadata": {
        "id": "Xhyb-SX6WMT8",
        "colab_type": "code",
        "colab": {}
      },
      "source": [
        "############ - DATATSET README - ################################################################\n",
        "# Flickr8k.token.txt - the raw captions of the Flickr8k Dataset,\n",
        "#       the first column is the ID of the caption which is \"image address # caption number\"\n",
        "# Flickr8k.lemma.txt - the lemmatized version of the above captions \n",
        "# Flickr_8k.trainImages.txt - The list of training images used in our experiments\n",
        "# Flickr_8k.devImages.txt - The list of development/validation images used in our experiments\n",
        "# Flickr_8k.testImages.txt - The list of test images used in our experiments\n",
        "#################################################################################################\n",
        "# 8091 images"
      ],
      "execution_count": 0,
      "outputs": []
    },
    {
      "cell_type": "code",
      "metadata": {
        "id": "DeX3JYPZg6Sz",
        "colab_type": "code",
        "colab": {}
      },
      "source": [
        "# Create list of images to move to validation folder\n",
        "valid_img_names = []\n",
        "file_names = ['Flickr8k_text/Flickr_8k.devImages.txt', 'Flickr8k_text/Flickr_8k.testImages.txt']\n",
        "for file_name in file_names:\n",
        "    with open(file_name, 'r') as f:\n",
        "        for line in f.readlines():\n",
        "            valid_img_names.append(line.strip())\n",
        "\n",
        "# Move validation images to validation folder\n",
        "for file_name in valid_img_names:\n",
        "    os.replace('Flickr8k_Dataset/Train_Images/Flicker8k_Dataset_Train/' + file_name, 'Flickr8k_Dataset/Valid_Images/Flicker8k_Dataset_Valid/' + file_name)"
      ],
      "execution_count": 0,
      "outputs": []
    },
    {
      "cell_type": "markdown",
      "metadata": {
        "id": "D6uQvLTLqdJj",
        "colab_type": "text"
      },
      "source": [
        "# Dataset Implementation"
      ]
    },
    {
      "cell_type": "code",
      "metadata": {
        "id": "UM1wZ4Iygf57",
        "colab_type": "code",
        "colab": {}
      },
      "source": [
        "def show_imgs(x, new_fig=True):\n",
        "    '''\n",
        "    Displays the image contained in a tensor.\n",
        "\n",
        "    Arguments:\n",
        "        x ((c,m,n) tensor): The image to be shown\n",
        "    '''\n",
        "    grid = vutils.make_grid(x.detach().cpu(), nrow=8, normalize=True, pad_value=0.3)\n",
        "    grid = grid.transpose(0,2).transpose(0,1) # channels as last dimension\n",
        "    if new_fig:\n",
        "        plt.figure()\n",
        "    plt.imshow(grid.numpy())"
      ],
      "execution_count": 0,
      "outputs": []
    },
    {
      "cell_type": "code",
      "metadata": {
        "id": "w59wWgyifXJH",
        "colab_type": "code",
        "colab": {}
      },
      "source": [
        "class ImageCaptionDataset(Dataset):\n",
        "    '''\n",
        "    Dataset class containing images and captions\n",
        "\n",
        "    Attributes:\n",
        "        image_folder (ImageFolder Dataset): Images to be captioned (data)\n",
        "        caption_folder (Dataset): Captions associated with images for validation (labels)\n",
        "    '''\n",
        "    def __init__(self, train=True, img_size=128):\n",
        "        # Initialize with training images or validation images depending on train parameter\n",
        "        folder_prefix = 'Train' if train else 'Valid'\n",
        "        folder_path = 'Flickr8k_Dataset/' + folder_prefix + '_Images'\n",
        "        self.image_folder = datasets.ImageFolder(root=folder_path,\n",
        "                                                transform=transforms.Compose([\n",
        "                                                    transforms.Resize(img_size),\n",
        "                                                    transforms.CenterCrop(img_size),  # This is the line that is making images square\n",
        "                                                    transforms.ToTensor(),\n",
        "                                                    transforms.Normalize((0.5, 0.5, 0.5), (0.5, 0.5, 0.5)),\n",
        "                                                ]))\n",
        "        \n",
        "        # NOTE: There is a chance I need to find a way to stick this caption attribute in a Dataset class for the dataloader to work.\n",
        "        train_img_captions = []\n",
        "        valid_img_captions = []\n",
        "        curr_img_captions = []\n",
        "\n",
        "        with open('Flickr8k_text/Flickr8k.token.txt', 'r') as f:\n",
        "            lines = f.readlines()\n",
        "        for i, line in enumerate(lines):\n",
        "            line = line.strip().split('\\t')\n",
        "            curr_img_captions.append(line[1])\n",
        "\n",
        "            # Each image has five captions, so start a new caption list each 5 iterations\n",
        "            if i % 5 == 4:\n",
        "                img_name = line[0][:-2]\n",
        "                if img_name in valid_img_names:\n",
        "                    valid_img_captions.append((img_name, curr_img_captions))\n",
        "                else:\n",
        "                    train_img_captions.append((img_name, curr_img_captions))\n",
        "                curr_img_captions = []\n",
        "\n",
        "        # Data cleaning: This is an extra caption in the dataset with no image\n",
        "        train_img_captions.pop(1010)\n",
        "\n",
        "        self.caption_folder = train_img_captions if train else valid_img_captions\n",
        "\n",
        "    \n",
        "    def __getitem__(self, index):\n",
        "        img = self.image_folder[index]\n",
        "        captions = self.caption_folder[index]\n",
        "        return img[0], captions[1]\n",
        "        \n",
        "\n",
        "    def __len__(self):\n",
        "        return len(self.caption_folder)"
      ],
      "execution_count": 0,
      "outputs": []
    },
    {
      "cell_type": "code",
      "metadata": {
        "id": "Kfi3JlCQAB4k",
        "colab_type": "code",
        "colab": {}
      },
      "source": [
        "train_dataset = ImageCaptionDataset(train=True)\n",
        "valid_dataset = ImageCaptionDataset(train=False)\n",
        "\n",
        "train_loader = DataLoader(train_dataset, \n",
        "                          batch_size=1, \n",
        "                          shuffle=False, \n",
        "                          pin_memory=True,\n",
        "                          drop_last=True)\n",
        "valid_loader = DataLoader(valid_dataset, \n",
        "                          batch_size=8, \n",
        "                          shuffle=False, \n",
        "                          pin_memory=True)"
      ],
      "execution_count": 0,
      "outputs": []
    },
    {
      "cell_type": "code",
      "metadata": {
        "id": "3GBpqp-cSazC",
        "colab_type": "code",
        "colab": {
          "base_uri": "https://localhost:8080/",
          "height": 267
        },
        "outputId": "60c75c86-a4dc-4c0e-8119-96692fbe98e1"
      },
      "source": [
        "# Make sure everything loaded alright\n",
        "\n",
        "for test_x, test_y_truth in train_loader:\n",
        "    for img in test_x:\n",
        "        show_imgs(img)\n",
        "        break\n",
        "    break"
      ],
      "execution_count": 10,
      "outputs": [
        {
          "output_type": "display_data",
          "data": {
            "image/png": "[encoded data removed]",
            "text/plain": [
              "<Figure size 432x288 with 1 Axes>"
            ]
          },
          "metadata": {
            "tags": []
          }
        }
      ]
    },
    {
      "cell_type": "markdown",
      "metadata": {
        "id": "leV3Ja47BLUF",
        "colab_type": "text"
      },
      "source": [
        "# CNN Model"
      ]
    },
    {
      "cell_type": "code",
      "metadata": {
        "id": "iffRkb8185IV",
        "colab_type": "code",
        "colab": {
          "base_uri": "https://localhost:8080/",
          "height": 70
        },
        "outputId": "2123dea7-9d6f-45c1-ef11-4ffa82f47b6d"
      },
      "source": [
        "# My output size of 128 is completely arbitrary - I don't know what I should pick\n",
        "class EncoderCNN(nn.Module):\n",
        "    def __init__(self, embed_size=1024):\n",
        "        super(EncoderCNN, self).__init__()\n",
        "\n",
        "        self.densenet = models.densenet121(pretrained=True)\n",
        "        self.densenet.classifier = nn.Linear(1024, 1024) # Fully connected layer\n",
        "        self.embed = nn.Linear(1024, embed_size)\n",
        "        self.relu = nn.ReLU()\n",
        "\n",
        "    def forward(self, images):\n",
        "        outputs = self.relu(self.densenet(images))\n",
        "        embeddings = self.embed(outputs)\n",
        "        return embeddings\n",
        "\n",
        "encoder = EncoderCNN()\n",
        "encoder = encoder.cuda()"
      ],
      "execution_count": 11,
      "outputs": [
        {
          "output_type": "stream",
          "text": [
            "Downloading: \"https://download.pytorch.org/models/densenet121-a639ec97.pth\" to /root/.cache/torch/checkpoints/densenet121-a639ec97.pth\n",
            "100%|██████████| 30.8M/30.8M [00:01<00:00, 20.7MB/s]\n"
          ],
          "name": "stderr"
        }
      ]
    },
    {
      "cell_type": "code",
      "metadata": {
        "id": "gCYJ2aRcB7MC",
        "colab_type": "code",
        "colab": {}
      },
      "source": [
        "class DecoderRNN(nn.Module):\n",
        "    def __init__(self, input_size, hidden_size, output_size, n_layers=1):\n",
        "        super(RNN, self).__init__()\n",
        "        self.input_size = input_size\n",
        "        self.output_size = output_size\n",
        "        self.hidden_size = hidden_size\n",
        "        self.n_layers = n_layers\n",
        "\n",
        "        self.embedding = nn.Embedding(input_size, hidden_size)\n",
        "        # Put LSTM here\n",
        "        self.out = nn.Linear(hidden_size, output_size)\n",
        "\n",
        "    def forward(self, input_word, hidden):\n",
        "        embedding = self.embedding(input_word).view(1, 1, -1)\n",
        "        output = F.relu(embedding)\n",
        "        output, hidden = None # LSTM goes here\n",
        "        scores = self.out(output[0])\n",
        "\n",
        "        return scores, hidden\n",
        "\n",
        "    def init_hidden(self):\n",
        "        return torch.zeros(self.n_layers, 1, self.hidden_size)"
      ],
      "execution_count": 0,
      "outputs": []
    },
    {
      "cell_type": "code",
      "metadata": {
        "id": "2JqVy29ROUqU",
        "colab_type": "code",
        "colab": {}
      },
      "source": [
        ""
      ],
      "execution_count": 0,
      "outputs": []
    }
  ]
}