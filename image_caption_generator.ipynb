{
  "nbformat": 4,
  "nbformat_minor": 0,
  "metadata": {
    "colab": {
      "name": "image_caption_generator",
      "provenance": [],
      "include_colab_link": true
    },
    "kernelspec": {
      "name": "python3",
      "display_name": "Python 3"
    },
    "accelerator": "GPU"
  },
  "cells": [
    {
      "cell_type": "markdown",
      "metadata": {
        "id": "view-in-github",
        "colab_type": "text"
      },
      "source": [
        "<a href=\"https://colab.research.google.com/github/porter7678/image_caption_generator/blob/master/image_caption_generator.ipynb\" target=\"_parent\"><img src=\"https://colab.research.google.com/assets/colab-badge.svg\" alt=\"Open In Colab\"/></a>"
      ]
    },
    {
      "cell_type": "code",
      "metadata": {
        "id": "saUiX2p428La",
        "colab_type": "code",
        "colab": {
          "base_uri": "https://localhost:8080/",
          "height": 183
        },
        "outputId": "64f965f4-4214-4566-8949-f7d8d033f0dd"
      },
      "source": [
        "# !pip3 install torch \n",
        "# !pip3 install torchvision\n",
        "# !pip3 install tqdm"
      ],
      "execution_count": 1,
      "outputs": [
        {
          "output_type": "stream",
          "text": [
            "Requirement already satisfied: torch in /usr/local/lib/python3.6/dist-packages (1.3.1)\n",
            "Requirement already satisfied: numpy in /usr/local/lib/python3.6/dist-packages (from torch) (1.17.4)\n",
            "Requirement already satisfied: torchvision in /usr/local/lib/python3.6/dist-packages (0.4.2)\n",
            "Requirement already satisfied: numpy in /usr/local/lib/python3.6/dist-packages (from torchvision) (1.17.4)\n",
            "Requirement already satisfied: pillow>=4.1.1 in /usr/local/lib/python3.6/dist-packages (from torchvision) (4.3.0)\n",
            "Requirement already satisfied: six in /usr/local/lib/python3.6/dist-packages (from torchvision) (1.12.0)\n",
            "Requirement already satisfied: torch==1.3.1 in /usr/local/lib/python3.6/dist-packages (from torchvision) (1.3.1)\n",
            "Requirement already satisfied: olefile in /usr/local/lib/python3.6/dist-packages (from pillow>=4.1.1->torchvision) (0.46)\n",
            "Requirement already satisfied: tqdm in /usr/local/lib/python3.6/dist-packages (4.28.1)\n"
          ],
          "name": "stdout"
        }
      ]
    },
    {
      "cell_type": "code",
      "metadata": {
        "id": "wIPxNuxA4Bni",
        "colab_type": "code",
        "colab": {}
      },
      "source": [
        "import torch\n",
        "import torch.nn as nn\n",
        "import torch.nn.functional as F\n",
        "import torch.optim as optim\n",
        "from torch.utils.data import Dataset, DataLoader\n",
        "import numpy as np\n",
        "import matplotlib.pyplot as plt\n",
        "from torchvision import transforms, utils, datasets\n",
        "from tqdm import tqdm"
      ],
      "execution_count": 0,
      "outputs": []
    },
    {
      "cell_type": "code",
      "metadata": {
        "id": "I10rF2tH3E24",
        "colab_type": "code",
        "colab": {}
      },
      "source": [
        "# in_dim = 784 # The size of the flattened image\n",
        "# out_dim = 10 # These are the things we want to sort it into\n",
        "\n",
        "class LinearNetwork(nn.Module):\n",
        "    def __init__(self, in_dim, out_dim):\n",
        "        super(LinearNetwork, self).__init__()\n",
        "        \n",
        "        self.net = nn.Sequential( # This is the type of network\n",
        "            nn.Linear(in_dim, 1000), # This is a layer of the network, we use a linear layer in this case\n",
        "            nn.ReLU(), # Activation function\n",
        "            nn.Linear(1000, out_dim))\n",
        "    \n",
        "    def forward(self, x):\n",
        "        '''Runs the input through the neural net'''\n",
        "        n, c, h, w = x.size()\n",
        "        flattened = x.view(n, c * h * w)\n",
        "        return self.net(flattened)\n",
        "\n",
        "\n",
        "class FashionMNISTProcessedDataset(Dataset):\n",
        "    def __init__(self, root, train=True):\n",
        "        self.data = datasets.FashionMNIST(\n",
        "            root, \n",
        "            train=train, \n",
        "            transform=transforms.ToTensor(),\n",
        "            download=True)\n",
        "    \n",
        "    def __getitem__(self, i):\n",
        "        x, y = self.data[i]\n",
        "        return x, y\n",
        "\n",
        "    def __len__(self):\n",
        "        return 1#len(self.data)"
      ],
      "execution_count": 0,
      "outputs": []
    },
    {
      "cell_type": "code",
      "metadata": {
        "id": "NQJKvkqA3gRl",
        "colab_type": "code",
        "colab": {}
      },
      "source": [
        "train_dataset = FashionMNISTProcessedDataset('/tmp/fashionmnist', train=True)\n",
        "validate_dataset = FashionMNISTProcessedDataset('/tmp/fashionmnist', train=False)\n",
        "c, h, w = train_dataset[0][0].size()\n",
        "in_dim = c * h * w\n",
        "n_classes = 10\n",
        "batch_size = 1\n",
        "n_epochs = 500\n",
        "valid_freq = 1\n",
        "\n",
        "\n",
        "train_loader = DataLoader(train_dataset, # Takes a dataset and formats it easily to pass into a nn\n",
        "                         batch_size=batch_size,\n",
        "                         pin_memory=True)\n",
        "validate_loader = DataLoader(validate_dataset,\n",
        "                         batch_size=batch_size,\n",
        "                         pin_memory=True)\n",
        "\n",
        "\n",
        "model = LinearNetwork(in_dim, n_classes)\n",
        "model = model.cuda()\n",
        "objective = nn.CrossEntropyLoss()\n",
        "optimizer = optim.SGD(model.parameters(), lr=1e-4)"
      ],
      "execution_count": 0,
      "outputs": []
    },
    {
      "cell_type": "code",
      "metadata": {
        "id": "RArRxwgz5kil",
        "colab_type": "code",
        "colab": {
          "base_uri": "https://localhost:8080/",
          "height": 33
        },
        "outputId": "1d939577-d0cf-42f7-8489-df75c9361a9e"
      },
      "source": [
        "loop = tqdm(total=(len(train_loader) * n_epochs), position=0)\n",
        "\n",
        "def validate(validate_loader):\n",
        "    validate_loss = []\n",
        "    for x, y_truth in validate_loader:\n",
        "\n",
        "        x, y_truth = x.cuda(), y_truth.cuda()\n",
        "        y_hat = model(x)\n",
        "        loss = objective(y_hat, y_truth)\n",
        "        validate_loss.append(loss.item())\n",
        "    \n",
        "    return np.mean(validate_loss)\n",
        "\n",
        "\n",
        "valid_loss = []\n",
        "train_losses = []\n",
        "for epoch in range(n_epochs):\n",
        "\n",
        "    batch = 0\n",
        "    if epoch % valid_freq == 0:\n",
        "        valid_loss.append(validate(validate_loader))\n",
        "\n",
        "    for x, y_truth in train_loader:\n",
        "        x, y_truth = x.cuda(), y_truth.cuda()\n",
        "\n",
        "        optimizer.zero_grad()\n",
        "\n",
        "        y_hat = model(x)\n",
        "        loss = objective(y_hat, y_truth)\n",
        "\n",
        "        train_losses.append(loss)\n",
        "\n",
        "        loop.set_description('loss:{:.4f}'.format(loss.item()))\n",
        "        loop.update(1)\n",
        "\n",
        "        loss.backward()\n",
        "        optimizer.step()\n",
        "        batch += 1\n",
        "\n",
        "loop.close()"
      ],
      "execution_count": 22,
      "outputs": [
        {
          "output_type": "stream",
          "text": [
            "loss:0.3144: 100%|██████████| 500/500 [00:03<00:00, 147.97it/s]\n"
          ],
          "name": "stderr"
        }
      ]
    },
    {
      "cell_type": "code",
      "metadata": {
        "id": "dMSWi3nxCb8c",
        "colab_type": "code",
        "colab": {
          "base_uri": "https://localhost:8080/",
          "height": 281
        },
        "outputId": "91308b61-565f-47f7-d3c2-0579159a508a"
      },
      "source": [
        "plt.plot(train_losses, label='Train losses')\n",
        "plt.plot(valid_loss, label='Test losses')\n",
        "plt.title(\"Test/Train Performance\")\n",
        "\n",
        "plt.legend()\n",
        "plt.show()"
      ],
      "execution_count": 23,
      "outputs": [
        {
          "output_type": "display_data",
          "data": {
            "image/png": "[encoded data removed]",
            "text/plain": [
              "<Figure size 432x288 with 1 Axes>"
            ]
          },
          "metadata": {
            "tags": []
          }
        }
      ]
    },
    {
      "cell_type": "code",
      "metadata": {
        "id": "v6B-whcwDICG",
        "colab_type": "code",
        "colab": {}
      },
      "source": [
        ""
      ],
      "execution_count": 0,
      "outputs": []
    }
  ]
}