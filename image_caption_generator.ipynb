{
  "nbformat": 4,
  "nbformat_minor": 0,
  "metadata": {
    "colab": {
      "name": "image_caption_generator",
      "provenance": [],
      "include_colab_link": true
    },
    "kernelspec": {
      "name": "python3",
      "display_name": "Python 3"
    },
    "accelerator": "GPU"
  },
  "cells": [
    {
      "cell_type": "markdown",
      "metadata": {
        "id": "view-in-github",
        "colab_type": "text"
      },
      "source": [
        "<a href=\"https://colab.research.google.com/github/porter7678/image_caption_generator/blob/master/image_caption_generator.ipynb\" target=\"_parent\"><img src=\"https://colab.research.google.com/assets/colab-badge.svg\" alt=\"Open In Colab\"/></a>"
      ]
    },
    {
      "cell_type": "markdown",
      "metadata": {
        "id": "yTMqietwBylh",
        "colab_type": "text"
      },
      "source": [
        "###To Do:\n",
        " - Generate output babyyyyy\n",
        "\n",
        "\n",
        "###Fix at the end:\n",
        " - Experiment with learning rate\n",
        " - Get it to work for batch size more than 1\n",
        " - Shuffle my dataloader\n",
        " - Size images back up\n",
        " - Get images to work even if they’re not square\n",
        " - I did 'drop_last' on my dataloaders, there is a chance I don't want to do that\n",
        " - If I can get the model training on just one caption, is there some way to generalize the loss to account for all 5 captions that I have? Like treat the loss as the lowest out of all 5 captions?\n",
        " - Use a different CNN that isn't copying from https://medium.com/@stepanulyanin/captioning-images-with-pytorch-bc592e5fd1a3\n",
        " - After getting something running, try to strip it down to just what the paper had (including a CNN from that year)\n",
        " - Mess with the dimensions of layers within the DenseNet to make it work better.\n",
        " - Try to use an nn.Embedding\n",
        " - Use the raw Negative Log Likelihood for loss instead of CrossEntropy\n",
        " - Use all 5 captions instead of just 1\n",
        " - Implement the LSTM from the paper\n",
        "\n",
        "###Possible improvements:\n",
        " - Different CNN\n",
        " - Implement Attention\n",
        " - Fix the embedding dictionary\n",
        " - Teacher forcing (I actually am doing this)\n",
        " - Beam search\n",
        "\n",
        "###Questions\n",
        " - What does pin_memory in the DataLoader do?\n",
        " - What does .train() and .eval() do?\n",
        " - Remind me how PyTorch batches work?\n",
        " - Should I have two different optimizers for my two different models? \n",
        "\n",
        "\n",
        "\n",
        " ----------------------------------------------\n"
      ]
    },
    {
      "cell_type": "markdown",
      "metadata": {
        "id": "CkfPJoV_YqgU",
        "colab_type": "text"
      },
      "source": [
        "![](https://raw.githubusercontent.com/yunjey/pytorch-tutorial/master/tutorials/03-advanced/image_captioning/png/model.png)"
      ]
    },
    {
      "cell_type": "markdown",
      "metadata": {
        "id": "S6iebwg7rPB6",
        "colab_type": "text"
      },
      "source": [
        "# Imports"
      ]
    },
    {
      "cell_type": "code",
      "metadata": {
        "id": "saUiX2p428La",
        "colab_type": "code",
        "colab": {}
      },
      "source": [
        "# !pip install torch \n",
        "# !pip install torchvision\n",
        "# !pip install tqdm\n",
        "# !pip install kaggle"
      ],
      "execution_count": 0,
      "outputs": []
    },
    {
      "cell_type": "code",
      "metadata": {
        "id": "wIPxNuxA4Bni",
        "colab_type": "code",
        "colab": {}
      },
      "source": [
        "import torch\n",
        "import torch.nn as nn\n",
        "import torch.nn.functional as F\n",
        "import torch.optim as optim\n",
        "from torch.utils.data import Dataset, DataLoader\n",
        "import torchvision.utils as vutils\n",
        "import numpy as np\n",
        "import matplotlib.pyplot as plt\n",
        "from torchvision import transforms, utils, datasets, models\n",
        "from tqdm import tqdm\n",
        "import os\n",
        "\n",
        "assert torch.cuda.is_available()"
      ],
      "execution_count": 0,
      "outputs": []
    },
    {
      "cell_type": "markdown",
      "metadata": {
        "id": "CmybwgB4qRT7",
        "colab_type": "text"
      },
      "source": [
        "# Data Preparation"
      ]
    },
    {
      "cell_type": "code",
      "metadata": {
        "id": "v6B-whcwDICG",
        "colab_type": "code",
        "colab": {}
      },
      "source": [
        "os.environ['KAGGLE_USERNAME'] = 'porter7678'\n",
        "if not 'KAGGLE_KEY' in os.environ:\n",
        "  os.environ['KAGGLE_KEY'] = input()"
      ],
      "execution_count": 0,
      "outputs": []
    },
    {
      "cell_type": "code",
      "metadata": {
        "id": "pyvIBcScVojJ",
        "colab_type": "code",
        "outputId": "9b67028d-7387-4418-de84-1f9495d6e73d",
        "colab": {
          "base_uri": "https://localhost:8080/",
          "height": 69
        }
      },
      "source": [
        "# ~70 secs\n",
        "!kaggle datasets download -d ming666/flicker8k-dataset\n",
        "!unzip -q flicker8k-dataset.zip\n",
        "\n",
        "# Discard extra directories\n",
        "! rm -rf flickr8k_dataset/\n",
        "! rm -rf flickr8k_text/\n",
        "! rm -rf sample_data/\n",
        "\n",
        "# Create Train and Valid directories\n",
        "os.mkdir('Flickr8k_Dataset/Train_Images')\n",
        "os.mkdir('Flickr8k_Dataset/Valid_Images')\n",
        "os.mkdir('Flickr8k_Dataset/Valid_Images/Flicker8k_Dataset_Valid')\n",
        "os.replace('Flickr8k_Dataset/Flicker8k_Dataset', 'Flickr8k_Dataset/Train_Images/Flicker8k_Dataset_Train')"
      ],
      "execution_count": 4,
      "outputs": [
        {
          "output_type": "stream",
          "text": [
            "Downloading flicker8k-dataset.zip to /content\n",
            "100% 2.07G/2.08G [00:51<00:00, 47.2MB/s]\n",
            "100% 2.08G/2.08G [00:51<00:00, 43.2MB/s]\n"
          ],
          "name": "stdout"
        }
      ]
    },
    {
      "cell_type": "code",
      "metadata": {
        "id": "Xhyb-SX6WMT8",
        "colab_type": "code",
        "colab": {}
      },
      "source": [
        "############ - DATATSET README - ################################################################\n",
        "# Flickr8k.token.txt - the raw captions of the Flickr8k Dataset,\n",
        "#       the first column is the ID of the caption which is \"image address # caption number\"\n",
        "# Flickr8k.lemma.txt - the lemmatized version of the above captions \n",
        "# Flickr_8k.trainImages.txt - The list of training images used in our experiments\n",
        "# Flickr_8k.devImages.txt - The list of development/validation images used in our experiments\n",
        "# Flickr_8k.testImages.txt - The list of test images used in our experiments\n",
        "#################################################################################################\n",
        "# 8091 images"
      ],
      "execution_count": 0,
      "outputs": []
    },
    {
      "cell_type": "code",
      "metadata": {
        "id": "DeX3JYPZg6Sz",
        "colab_type": "code",
        "colab": {}
      },
      "source": [
        "# Create list of images to move to validation folder\n",
        "valid_img_names = []\n",
        "file_names = ['Flickr8k_text/Flickr_8k.devImages.txt', 'Flickr8k_text/Flickr_8k.testImages.txt']\n",
        "for file_name in file_names:\n",
        "    with open(file_name, 'r') as f:\n",
        "        for line in f.readlines():\n",
        "            valid_img_names.append(line.strip())\n",
        "\n",
        "# Move validation images to validation folder\n",
        "for file_name in valid_img_names:\n",
        "    os.replace('Flickr8k_Dataset/Train_Images/Flicker8k_Dataset_Train/' + file_name, 'Flickr8k_Dataset/Valid_Images/Flicker8k_Dataset_Valid/' + file_name)"
      ],
      "execution_count": 0,
      "outputs": []
    },
    {
      "cell_type": "markdown",
      "metadata": {
        "id": "D6uQvLTLqdJj",
        "colab_type": "text"
      },
      "source": [
        "# Dataset Implementation"
      ]
    },
    {
      "cell_type": "code",
      "metadata": {
        "id": "w59wWgyifXJH",
        "colab_type": "code",
        "colab": {}
      },
      "source": [
        "class ImageCaptionDataset(Dataset):\n",
        "    '''Dataset class containing images and captions\n",
        "\n",
        "    Attributes:\n",
        "        image_folder (ImageFolder Dataset): Images to be captioned (data)\n",
        "        caption_folder (list): Captions associated with images for validation (labels)\n",
        "    '''\n",
        "    def __init__(self, train=True, img_size=128):\n",
        "        # Initialize with training images or validation images depending on train parameter\n",
        "        folder_prefix = 'Train' if train else 'Valid'\n",
        "        folder_path = 'Flickr8k_Dataset/' + folder_prefix + '_Images'\n",
        "        self.image_folder = datasets.ImageFolder(root=folder_path,\n",
        "                                                transform=transforms.Compose([\n",
        "                                                    transforms.Resize(img_size),\n",
        "                                                    transforms.CenterCrop(img_size),  # This is the line that is making images square\n",
        "                                                    transforms.ToTensor(),\n",
        "                                                    transforms.Normalize((0.5, 0.5, 0.5), (0.5, 0.5, 0.5)),\n",
        "                                                ]))\n",
        "        \n",
        "        # NOTE: There is a chance I need to find a way to stick this caption attribute in a Dataset class for the dataloader to work.\n",
        "        train_img_captions = []\n",
        "        valid_img_captions = []\n",
        "        curr_img_captions = []\n",
        "\n",
        "        with open('Flickr8k_text/Flickr8k.token.txt', 'r') as f:\n",
        "            lines = f.readlines()\n",
        "        for i, line in enumerate(lines):\n",
        "            line = line.strip().split('\\t')\n",
        "            curr_img_captions.append(line[1])\n",
        "\n",
        "            # Each image has five captions, so start a new caption list each 5 iterations\n",
        "            if i % 5 == 4:\n",
        "                img_name = line[0][:-2]\n",
        "                if img_name in valid_img_names:\n",
        "                    valid_img_captions.append((img_name, curr_img_captions))\n",
        "                else:\n",
        "                    train_img_captions.append((img_name, curr_img_captions))\n",
        "                curr_img_captions = []\n",
        "\n",
        "        # Data cleaning: This is an extra caption in the dataset with no image\n",
        "        train_img_captions.pop(1010)\n",
        "\n",
        "        self.caption_folder = train_img_captions if train else valid_img_captions\n",
        "\n",
        "    \n",
        "    def __getitem__(self, index):\n",
        "        img = self.image_folder[index]\n",
        "        captions = self.caption_folder[index]\n",
        "        return img[0], captions[1][0]  # For now, I'm only taking the first of 5 captions for each image\n",
        "        \n",
        "\n",
        "    def __len__(self):\n",
        "        return 1000 #len(self.caption_folder)"
      ],
      "execution_count": 0,
      "outputs": []
    },
    {
      "cell_type": "markdown",
      "metadata": {
        "id": "FAIE2WPJ3fXz",
        "colab_type": "text"
      },
      "source": [
        "# Models"
      ]
    },
    {
      "cell_type": "code",
      "metadata": {
        "id": "iffRkb8185IV",
        "colab_type": "code",
        "colab": {}
      },
      "source": [
        "class EncoderCNN(nn.Module):\n",
        "    def __init__(self, embed_size=128):\n",
        "        super(EncoderCNN, self).__init__()\n",
        "\n",
        "        self.densenet = models.densenet121(pretrained=True)\n",
        "        self.densenet.classifier = nn.Linear(1024, 1024) # Fully connected layer\n",
        "        self.embed = nn.Linear(1024, embed_size)\n",
        "        self.relu = nn.ReLU()\n",
        "\n",
        "    def forward(self, images):\n",
        "        outputs = self.relu(self.densenet(images))\n",
        "        embeddings = self.embed(outputs)\n",
        "        return embeddings"
      ],
      "execution_count": 0,
      "outputs": []
    },
    {
      "cell_type": "code",
      "metadata": {
        "id": "gCYJ2aRcB7MC",
        "colab_type": "code",
        "colab": {}
      },
      "source": [
        "class DecoderRNN(nn.Module):\n",
        "    def __init__(self, embed_size, hidden_size, vocab_size, n_layers=1):\n",
        "        super(DecoderRNN, self).__init__()\n",
        "        self.embed_size = embed_size\n",
        "        self.hidden_size = hidden_size\n",
        "        self.vocab_size = vocab_size\n",
        "        self.n_layers = n_layers\n",
        "\n",
        "        self.embedding = nn.Embedding(num_embeddings=self.vocab_size, embedding_dim=self.embed_size)\n",
        "        self.lstm = nn.LSTM(embed_size, hidden_size)\n",
        "        self.out = nn.Linear(hidden_size, vocab_size)\n",
        "\n",
        "    def forward(self, input_word, hidden_state, cell_state, is_caption=True):\n",
        "        if is_caption:\n",
        "            embedding = self.embedding(input_word)   #.view(1, 1, -1)\n",
        "        else:\n",
        "            embedding = input_word              # This is for when we pass the image in first\n",
        "        embed = F.relu(embedding)\n",
        "        embed = embed.view(1, 1, -1)            # I'm not entirely sure why I'm doing this\n",
        "\n",
        "        output, (hidden, cell) = self.lstm(embed, (hidden_state, cell_state))\n",
        "        scores = self.out(output[0])\n",
        "\n",
        "        return scores, hidden, cell\n",
        "\n",
        "    def init_hidden(self):\n",
        "        return torch.zeros((1, 1, self.hidden_size))  # NOTE: I may need to change this 1 to batch size later"
      ],
      "execution_count": 0,
      "outputs": []
    },
    {
      "cell_type": "markdown",
      "metadata": {
        "id": "H-eUnZfArCju",
        "colab_type": "text"
      },
      "source": [
        "# Helper Functions"
      ]
    },
    {
      "cell_type": "code",
      "metadata": {
        "id": "UM1wZ4Iygf57",
        "colab_type": "code",
        "colab": {}
      },
      "source": [
        "def show_imgs(x, new_fig=True):\n",
        "    '''Displays the image contained in a tensor.\n",
        "\n",
        "    Arguments:\n",
        "        x ((c,m,n) tensor): The image to be shown\n",
        "    '''\n",
        "    grid = vutils.make_grid(x.detach().cpu(), nrow=8, normalize=True, pad_value=0.3)\n",
        "    grid = grid.transpose(0,2).transpose(0,1) # channels as last dimension\n",
        "    if new_fig:\n",
        "        plt.figure()\n",
        "    plt.imshow(grid.numpy())"
      ],
      "execution_count": 0,
      "outputs": []
    },
    {
      "cell_type": "code",
      "metadata": {
        "id": "oe7Dxtd4pFhH",
        "colab_type": "code",
        "colab": {}
      },
      "source": [
        "def create_corpus_dictionary(train_dataset, valid_dataset):\n",
        "    '''Creates corpus dictionary\n",
        "    \n",
        "    Arguments:\n",
        "        train_dataset (ImageCaptionDataset): training dataset\n",
        "        valid_dataset (ImageCaptionDataset): validation dataset\n",
        "        \n",
        "    Returns:\n",
        "        caption_dictionary (list): all words in any caption (non-case sensitive), and start/end tokens\n",
        "        '''\n",
        "    # Get a dictionary going for my captions\n",
        "    caption_dictionary = []\n",
        "    max_caption_len = 0\n",
        "\n",
        "    for caption_list in train_dataset.caption_folder:\n",
        "        for caption in caption_list[1]:\n",
        "            caption = caption.split()\n",
        "            if len(caption) > max_caption_len:\n",
        "                max_caption_len = len(caption)\n",
        "            for word in caption:\n",
        "                word = word.lower()\n",
        "                if word not in caption_dictionary:\n",
        "                    caption_dictionary.append(word)\n",
        "\n",
        "    for caption_list in valid_dataset.caption_folder:\n",
        "        for caption in caption_list[1]:\n",
        "            caption = caption.split()\n",
        "            if len(caption) > max_caption_len:\n",
        "                max_caption_len = len(caption)\n",
        "            for word in caption:\n",
        "                word = word.lower()\n",
        "                if word not in caption_dictionary:\n",
        "                    caption_dictionary.append(word)\n",
        "\n",
        "    caption_dictionary.append('<SOS>')\n",
        "    caption_dictionary.append('<EOS>')\n",
        "\n",
        "    return caption_dictionary"
      ],
      "execution_count": 0,
      "outputs": []
    },
    {
      "cell_type": "code",
      "metadata": {
        "id": "2JqVy29ROUqU",
        "colab_type": "code",
        "colab": {}
      },
      "source": [
        "def get_word_tensor(caption):\n",
        "    '''Convert caption into tensor with corresponding dictionary indices'''\n",
        "    word_tensor = torch.zeros(len(caption))\n",
        "    for i, word in enumerate(caption):\n",
        "        word_tensor[i] = caption_dictionary.index(word)\n",
        "    return word_tensor\n",
        "        \n",
        "\n",
        "def get_caption_tensors(caption):\n",
        "    '''Convert caption into input and target tensors'''\n",
        "    words = caption.lower().split()\n",
        "    # Append start and stop tokens\n",
        "    inp = ['<SOS>'] + words\n",
        "    target = words + ['<EOS>']\n",
        "\n",
        "    # Convert to tensor\n",
        "    inp = get_word_tensor(inp)\n",
        "    target = get_word_tensor(target)\n",
        "    return inp, target\n",
        "\n",
        "# Use 'torch.nn.utils.rnn.pad_sequence' to pad if necessary"
      ],
      "execution_count": 0,
      "outputs": []
    },
    {
      "cell_type": "markdown",
      "metadata": {
        "id": "BTNxcEzyXet5",
        "colab_type": "text"
      },
      "source": [
        "# Training"
      ]
    },
    {
      "cell_type": "code",
      "metadata": {
        "id": "4vs9_E7I38uT",
        "colab_type": "code",
        "colab": {
          "base_uri": "https://localhost:8080/",
          "height": 34
        },
        "outputId": "8ec2dc0c-a923-4ad6-be78-78d7217a545f"
      },
      "source": [
        "n_epochs = 1\n",
        "img_size = 128\n",
        "hidden_size = 128  # Maybe experiment with this later?\n",
        "batch_size = 1\n",
        "lr = 10e-5\n",
        "\n",
        "train_dataset = ImageCaptionDataset(train=True, img_size=img_size)\n",
        "valid_dataset = ImageCaptionDataset(train=False, img_size=img_size)\n",
        "\n",
        "train_loader = DataLoader(train_dataset, \n",
        "                          batch_size=batch_size, \n",
        "                          shuffle=False, \n",
        "                          pin_memory=True,\n",
        "                          drop_last=True)\n",
        "valid_loader = DataLoader(valid_dataset, \n",
        "                          batch_size=batch_size, \n",
        "                          shuffle=False, \n",
        "                          pin_memory=True)\n",
        "\n",
        "caption_dictionary = create_corpus_dictionary(train_dataset, valid_dataset)\n",
        "vocab_size = len(caption_dictionary)\n",
        "\n",
        "encoder = EncoderCNN(embed_size=img_size).cuda()\n",
        "decoder = DecoderRNN(img_size, hidden_size, vocab_size).cuda()\n",
        "# CrossEntropy takes raw scores as input, and compares them to a target index of classification class\n",
        "criterion = nn.CrossEntropyLoss() \n",
        "encoder_optimizer = torch.optim.Adam(encoder.parameters(), lr=lr)\n",
        "decoder_optimizer = torch.optim.Adam(decoder.parameters(), lr=lr)\n",
        "\n",
        "losses = []\n",
        "valid_losses = []\n",
        "\n",
        "loop = tqdm(total=len(train_loader) * n_epochs, position=0, leave=False)\n",
        "for epoch in range(n_epochs):\n",
        "    for batch, (x, captions) in enumerate(train_loader):\n",
        "        encoder_optimizer.zero_grad()\n",
        "        decoder_optimizer.zero_grad()\n",
        "\n",
        "        batch_loss = 0\n",
        "\n",
        "        # Get inp and label caption tensors\n",
        "        y_inp, y_truth = get_caption_tensors(captions[0]) # NOTE: This isn't gonna work when my batch size isn't 1\n",
        "        \n",
        "        # Move onto GPU\n",
        "        x = x.cuda()\n",
        "        y_inp = y_inp.cuda()\n",
        "        y_truth = y_truth.cuda()\n",
        "\n",
        "        # Encode the image\n",
        "        x_encoded = encoder(x)\n",
        "\n",
        "        # Pass in image tensor\n",
        "        hidden_initial = decoder.init_hidden().cuda()\n",
        "        cell_initial = decoder.init_hidden().cuda()\n",
        "        scores, hidden, cell = decoder(x_encoded, hidden_initial, cell_initial, is_caption=False)\n",
        "\n",
        "        # Get a start_token to be the predicted output of the image on the first pass thru the RNN\n",
        "        start_token_tensor = torch.Tensor([vocab_size - 2]).long().cuda()\n",
        "\n",
        "        batch_loss += criterion(scores, start_token_tensor)\n",
        "\n",
        "\n",
        "        # Pass in caption tensors\n",
        "        y_truth = y_truth.long()\n",
        "        for i, word in enumerate(y_inp):\n",
        "            word = word.long()\n",
        "            scores, hidden, cell = decoder(word, hidden, cell, is_caption=True)\n",
        "            batch_loss += criterion(scores, y_truth[i].unsqueeze(0))\n",
        "\n",
        "        batch_loss.backward()\n",
        "        encoder_optimizer.step()\n",
        "        decoder_optimizer.step()\n",
        "\n",
        "        losses.append(batch_loss.item())\n",
        "\n",
        "        loop.set_description('epoch{}, loss:{:.4f} '.format(epoch, batch_loss))\n",
        "        loop.update(1)\n"
      ],
      "execution_count": 59,
      "outputs": [
        {
          "output_type": "stream",
          "text": [
            "epoch0, loss:54.8504 : 100%|██████████| 1000/1000 [02:06<00:00,  8.25it/s]"
          ],
          "name": "stderr"
        }
      ]
    },
    {
      "cell_type": "code",
      "metadata": {
        "id": "1OVVbfHXomGM",
        "colab_type": "code",
        "colab": {
          "base_uri": "https://localhost:8080/",
          "height": 265
        },
        "outputId": "147cd552-0c8c-4350-9ba3-d0f4b92ab2a6"
      },
      "source": [
        "plt.plot(losses)\n",
        "plt.show()"
      ],
      "execution_count": 60,
      "outputs": [
        {
          "output_type": "display_data",
          "data": {
            "image/png": "[encoded data removed]",
            "text/plain": [
              "<Figure size 432x288 with 1 Axes>"
            ]
          },
          "metadata": {
            "tags": []
          }
        }
      ]
    },
    {
      "cell_type": "markdown",
      "metadata": {
        "id": "48ly-oJApWP-",
        "colab_type": "text"
      },
      "source": [
        "# Generate Output"
      ]
    },
    {
      "cell_type": "code",
      "metadata": {
        "id": "VU-kdT77pD3E",
        "colab_type": "code",
        "colab": {
          "base_uri": "https://localhost:8080/",
          "height": 285
        },
        "outputId": "fa180049-438c-4210-cf8e-1fdc1e6f74b3"
      },
      "source": [
        "x, captions = valid_dataset[3]\n",
        "show_imgs(x)\n",
        "print(captions)\n",
        "\n",
        "y_inp, y_truth = get_caption_tensors(captions[0]) # NOTE: This isn't gonna work when my batch size isn't 1\n",
        "        \n",
        "# Move onto GPU\n",
        "x = x.cuda()\n",
        "y_inp = y_inp.cuda()\n",
        "y_truth = y_truth.cuda()\n",
        "\n",
        "# Encode the image\n",
        "x_encoded = encoder(x.unsqueeze(0))\n",
        "\n",
        "# Pass in image tensor\n",
        "hidden_initial = decoder.init_hidden().cuda()\n",
        "cell_initial = decoder.init_hidden().cuda()\n",
        "scores, hidden, cell = decoder(x_encoded, hidden_initial, cell_initial, is_caption=False)\n",
        "\n",
        "# Get a start_token to be the predicted output of the image on the first pass thru the RNN\n",
        "start_token_tensor = torch.Tensor([vocab_size - 2]).long().cuda()\n",
        "\n",
        "batch_loss += criterion(scores, start_token_tensor)\n",
        "\n",
        "# print('scores', scores.shape)   # 1 x 8920\n",
        "# print('hidden', hidden.shape)   # 1 x 1 x 128\n",
        "# print('cell', cell.shape)       # 1 x 1 x 128\n",
        "\n",
        "y_truth = y_truth.long()\n",
        "\n",
        "for i, word in enumerate(y_inp):\n",
        "    word = word.long()\n",
        "    scores, hidden, cell = decoder(word, hidden, cell, is_caption=True)\n",
        "    batch_loss += criterion(scores, y_truth[i].unsqueeze(0))"
      ],
      "execution_count": 69,
      "outputs": [
        {
          "output_type": "stream",
          "text": [
            "A boy bites hard into a treat while he sits outside .\n"
          ],
          "name": "stdout"
        },
        {
          "output_type": "display_data",
          "data": {
            "image/png": "[encoded data removed]",
            "text/plain": [
              "<Figure size 432x288 with 1 Axes>"
            ]
          },
          "metadata": {
            "tags": []
          }
        }
      ]
    },
    {
      "cell_type": "code",
      "metadata": {
        "id": "7tU70_u6po_f",
        "colab_type": "code",
        "colab": {}
      },
      "source": [
        ""
      ],
      "execution_count": 0,
      "outputs": []
    }
  ]
}